{
  "nbformat": 4,
  "nbformat_minor": 0,
  "metadata": {
    "kernelspec": {
      "display_name": "Python 3",
      "language": "python",
      "name": "python3"
    },
    "language_info": {
      "codemirror_mode": {
        "name": "ipython",
        "version": 3
      },
      "file_extension": ".py",
      "mimetype": "text/x-python",
      "name": "python",
      "nbconvert_exporter": "python",
      "pygments_lexer": "ipython3",
      "version": "3.7.4"
    },
    "colab": {
      "name": "XML.ipynb",
      "provenance": [],
      "include_colab_link": true
    }
  },
  "cells": [
    {
      "cell_type": "markdown",
      "metadata": {
        "id": "view-in-github",
        "colab_type": "text"
      },
      "source": [
        "<a href=\"https://colab.research.google.com/github/annagradziel12/rozne_zrodla_danych/blob/master/XML.ipynb\" target=\"_parent\"><img src=\"https://colab.research.google.com/assets/colab-badge.svg\" alt=\"Open In Colab\"/></a>"
      ]
    },
    {
      "cell_type": "code",
      "metadata": {
        "id": "uCrnQHkGim9h",
        "colab_type": "code",
        "colab": {}
      },
      "source": [
        "# https://www.w3schools.com/xml/xpath_syntax.asp\n",
        "# https://www.w3schools.com/xml/xpath_examples.asp"
      ],
      "execution_count": null,
      "outputs": []
    },
    {
      "cell_type": "code",
      "metadata": {
        "id": "1tVa1is2im9p",
        "colab_type": "code",
        "colab": {},
        "outputId": "47d446a4-9a7b-406a-9330-b452eb919c08"
      },
      "source": [
        "from lxml import etree\n",
        "tree = etree.parse(\"siecKsiegarni.xml\")\n",
        "tree"
      ],
      "execution_count": null,
      "outputs": [
        {
          "output_type": "execute_result",
          "data": {
            "text/plain": [
              "<lxml.etree._ElementTree at 0x7f1bd8157690>"
            ]
          },
          "metadata": {
            "tags": []
          },
          "execution_count": 2
        }
      ]
    },
    {
      "cell_type": "code",
      "metadata": {
        "id": "lut0tgzyim9x",
        "colab_type": "code",
        "colab": {},
        "outputId": "05502060-fa57-41b4-d6bc-5251fbae670a"
      },
      "source": [
        "siec = tree.getroot()\n",
        "siec"
      ],
      "execution_count": null,
      "outputs": [
        {
          "output_type": "execute_result",
          "data": {
            "text/plain": [
              "<Element Siec at 0x7f1bd80ce500>"
            ]
          },
          "metadata": {
            "tags": []
          },
          "execution_count": 3
        }
      ]
    },
    {
      "cell_type": "code",
      "metadata": {
        "collapsed": true,
        "id": "SDyMuCfbim91",
        "colab_type": "code",
        "colab": {},
        "outputId": "7e19d881-7a48-4acc-f243-82d3c677b240"
      },
      "source": [
        "print(etree.tostring(siec, pretty_print=True))"
      ],
      "execution_count": null,
      "outputs": [
        {
          "output_type": "stream",
          "text": [
            "b'<Siec nazwa=\"CiekaweKsiazki\">\\n\\n\\t<Ksiegarnia adres=\"Aleje Jerozolimskie\">\\n\\t<Wlasciciel imie=\"Maja\" nazwisko=\"Kowalska\"/>\\n\\t<Ksiazka gatunek=\"Fantasy\" autor=\"Brent Weeks\" liczba=\"3\">\\n\\tOkaleczone oko\\n\\t</Ksiazka>\\n\\t<Ksiazka gatunek=\"Fantasy\" autor=\"Brent Weeks\" liczba=\"1\">\\n\\tO&#347;lepiaj&#261;cy n&#243;&#380;\\n\\t</Ksiazka>\\n\\t<Ksiazka gatunek=\"Fantasy\" autor=\"Brent Weeks\" liczba=\"2\">\\n\\tCzarny Pryzmat\\n\\t</Ksiazka>\\n\\t<Ksiazka gatunek=\"Fantasy\" autor=\"Brent Weeks\" liczba=\"5\">\\n\\tKrwawe Zwierciad&#322;o\\n\\t</Ksiazka>\\n\\t</Ksiegarnia>\\n\\n\\t<Ksiegarnia adres=\"3 Maja\">\\n\\t<Wlasciciel imie=\"Matylda\" nazwisko=\"Jankowska\"/>\\n\\t<Ksiazka gatunek=\"Fantasy\" autor=\"Brent Weeks\" liczba=\"1\">\\n\\tCzarny Pryzmat\\n\\t</Ksiazka>\\n\\t<Ksiazka gatunek=\"Fantasy\" autor=\"Brent Weeks\" liczba=\"2\">\\n\\tKrwawe Zwierciad&#322;o\\n\\t</Ksiazka>\\n\\t<Ksiazka gatunek=\"Klasyka\" autor=\"Jane Austen\" liczba=\"3\">\\n\\tDuma i uprzedzenie\\n\\t</Ksiazka>\\n\\t</Ksiegarnia>\\n\\n\\t<Ksiegarnia adres=\"Marywilska\">\\n\\t<Wlasciciel imie=\"Jan\" nazwisko=\"Nowak\"/>\\n\\t<Ksiazka gatunek=\"Fantasy\" autor=\"Brent Weeks\">\\n\\tOkaleczone oko\\n\\t</Ksiazka>\\n\\t<Ksiazka gatunek=\"Fantasy\" autor=\"Brent Weeks\">\\n\\tO&#347;lepiaj&#261;cy n&#243;&#380;\\n\\t</Ksiazka>\\n\\t<Ksiazka gatunek=\"Klasyka\" autor=\"Jane Austen\">\\n\\tDuma i uprzedzenie\\n\\t</Ksiazka>\\n\\t</Ksiegarnia>\\n\\n</Siec>\\n'\n"
          ],
          "name": "stdout"
        }
      ]
    },
    {
      "cell_type": "code",
      "metadata": {
        "id": "1rwti9wUim96",
        "colab_type": "code",
        "colab": {},
        "outputId": "5ddbc79c-96c6-4263-9e22-64da8215b3e4"
      },
      "source": [
        "siec.tag # nazwa znacznika"
      ],
      "execution_count": null,
      "outputs": [
        {
          "output_type": "execute_result",
          "data": {
            "text/plain": [
              "'Siec'"
            ]
          },
          "metadata": {
            "tags": []
          },
          "execution_count": 7
        }
      ]
    },
    {
      "cell_type": "code",
      "metadata": {
        "id": "nq5MdK6Iim9_",
        "colab_type": "code",
        "colab": {},
        "outputId": "204b1422-0c1a-42d1-84ff-b44ca31934f1"
      },
      "source": [
        "siec.keys()"
      ],
      "execution_count": null,
      "outputs": [
        {
          "output_type": "execute_result",
          "data": {
            "text/plain": [
              "['nazwa']"
            ]
          },
          "metadata": {
            "tags": []
          },
          "execution_count": 9
        }
      ]
    },
    {
      "cell_type": "code",
      "metadata": {
        "id": "ft6L1MFmim-D",
        "colab_type": "code",
        "colab": {},
        "outputId": "987f00ed-7d05-423a-f5db-5ea1de3b84de"
      },
      "source": [
        "siec.get(\"nazwa\")"
      ],
      "execution_count": null,
      "outputs": [
        {
          "output_type": "execute_result",
          "data": {
            "text/plain": [
              "'CiekaweKsiazki'"
            ]
          },
          "metadata": {
            "tags": []
          },
          "execution_count": 10
        }
      ]
    },
    {
      "cell_type": "code",
      "metadata": {
        "id": "ZUU9B-m7im-H",
        "colab_type": "code",
        "colab": {},
        "outputId": "e31bca49-9f84-4135-e2a1-923666089d21"
      },
      "source": [
        "ksiazka = siec[0][1]\n",
        "ksiazka.get(\"gatunek\")"
      ],
      "execution_count": null,
      "outputs": [
        {
          "output_type": "execute_result",
          "data": {
            "text/plain": [
              "'Fantasy'"
            ]
          },
          "metadata": {
            "tags": []
          },
          "execution_count": 11
        }
      ]
    },
    {
      "cell_type": "code",
      "metadata": {
        "id": "_1J88b6aim-J",
        "colab_type": "code",
        "colab": {},
        "outputId": "6b2d06fd-f1b9-404e-f6ee-0c5a877acb74"
      },
      "source": [
        "ksiazka.text"
      ],
      "execution_count": null,
      "outputs": [
        {
          "output_type": "execute_result",
          "data": {
            "text/plain": [
              "'\\n\\tOkaleczone oko\\n\\t'"
            ]
          },
          "metadata": {
            "tags": []
          },
          "execution_count": 12
        }
      ]
    },
    {
      "cell_type": "code",
      "metadata": {
        "id": "zGHXZyQyim-L",
        "colab_type": "code",
        "colab": {},
        "outputId": "b9e2d2fd-0b7e-4542-8d3b-331c3c986c89"
      },
      "source": [
        "ksiazka.text.strip()"
      ],
      "execution_count": null,
      "outputs": [
        {
          "output_type": "execute_result",
          "data": {
            "text/plain": [
              "'Okaleczone oko'"
            ]
          },
          "metadata": {
            "tags": []
          },
          "execution_count": 13
        }
      ]
    },
    {
      "cell_type": "markdown",
      "metadata": {
        "id": "ufXgJvgbim-O",
        "colab_type": "text"
      },
      "source": [
        "# XPath"
      ]
    },
    {
      "cell_type": "markdown",
      "metadata": {
        "id": "hh6oAnH1im-O",
        "colab_type": "text"
      },
      "source": [
        "## Ścieżka bezwzględna (nie ma znaczenia, na rzecz jakiego znacznika to wywołujemy)"
      ]
    },
    {
      "cell_type": "code",
      "metadata": {
        "id": "CniEe5skim-P",
        "colab_type": "code",
        "colab": {},
        "outputId": "8fd3b6b4-8c63-4fe3-c761-95a8c8cdde36"
      },
      "source": [
        "siec.xpath(\"/Siec/*\")"
      ],
      "execution_count": null,
      "outputs": [
        {
          "output_type": "execute_result",
          "data": {
            "text/plain": [
              "[<Element Ksiegarnia at 0x7f1bd03f7cd0>,\n",
              " <Element Ksiegarnia at 0x7f1bd03f7d70>,\n",
              " <Element Ksiegarnia at 0x7f1bd03f7dc0>]"
            ]
          },
          "metadata": {
            "tags": []
          },
          "execution_count": 15
        }
      ]
    },
    {
      "cell_type": "code",
      "metadata": {
        "id": "P1bUffi2im-R",
        "colab_type": "code",
        "colab": {},
        "outputId": "7c50b290-18f7-4609-ef47-0b22b7522df1"
      },
      "source": [
        "ksiazka.xpath(\"/Siec/*\")"
      ],
      "execution_count": null,
      "outputs": [
        {
          "output_type": "execute_result",
          "data": {
            "text/plain": [
              "[<Element Ksiegarnia at 0x7f1bd03f7cd0>,\n",
              " <Element Ksiegarnia at 0x7f1bd03f7d70>,\n",
              " <Element Ksiegarnia at 0x7f1bd03f7dc0>]"
            ]
          },
          "metadata": {
            "tags": []
          },
          "execution_count": 16
        }
      ]
    },
    {
      "cell_type": "markdown",
      "metadata": {
        "id": "sNE9S1Msim-T",
        "colab_type": "text"
      },
      "source": [
        "## Jak się odwołać do wnętrza (tekstu)"
      ]
    },
    {
      "cell_type": "code",
      "metadata": {
        "id": "2F7XzAkvim-U",
        "colab_type": "code",
        "colab": {},
        "outputId": "898a57a5-98da-40e7-9743-24f3edca3c20"
      },
      "source": [
        "ksiazka.xpath(\"/Siec/Ksiegarnia/Ksiazka/text()\")"
      ],
      "execution_count": null,
      "outputs": [
        {
          "output_type": "execute_result",
          "data": {
            "text/plain": [
              "['\\n\\tOkaleczone oko\\n\\t',\n",
              " '\\n\\tOślepiający nóż\\n\\t',\n",
              " '\\n\\tCzarny Pryzmat\\n\\t',\n",
              " '\\n\\tKrwawe Zwierciadło\\n\\t',\n",
              " '\\n\\tCzarny Pryzmat\\n\\t',\n",
              " '\\n\\tKrwawe Zwierciadło\\n\\t',\n",
              " '\\n\\tDuma i uprzedzenie\\n\\t',\n",
              " '\\n\\tOkaleczone oko\\n\\t',\n",
              " '\\n\\tOślepiający nóż\\n\\t',\n",
              " '\\n\\tDuma i uprzedzenie\\n\\t']"
            ]
          },
          "metadata": {
            "tags": []
          },
          "execution_count": 18
        }
      ]
    },
    {
      "cell_type": "markdown",
      "metadata": {
        "id": "utUCcvHUim-W",
        "colab_type": "text"
      },
      "source": [
        "## Jak odwołać się do atrybutu"
      ]
    },
    {
      "cell_type": "code",
      "metadata": {
        "id": "ctiTZcASim-W",
        "colab_type": "code",
        "colab": {},
        "outputId": "401d3552-fb4c-4e50-9911-aa0e921540b7"
      },
      "source": [
        "ksiazka.xpath(\"/Siec/Ksiegarnia/Ksiazka/@autor\")"
      ],
      "execution_count": null,
      "outputs": [
        {
          "output_type": "execute_result",
          "data": {
            "text/plain": [
              "['Brent Weeks',\n",
              " 'Brent Weeks',\n",
              " 'Brent Weeks',\n",
              " 'Brent Weeks',\n",
              " 'Brent Weeks',\n",
              " 'Brent Weeks',\n",
              " 'Jane Austen',\n",
              " 'Brent Weeks',\n",
              " 'Brent Weeks',\n",
              " 'Jane Austen']"
            ]
          },
          "metadata": {
            "tags": []
          },
          "execution_count": 19
        }
      ]
    },
    {
      "cell_type": "markdown",
      "metadata": {
        "id": "1j8BiJUhim-Y",
        "colab_type": "text"
      },
      "source": [
        "## Ścieżka względna (ma znaczenie, na rzecz jakiego znacznika wywołujemy)"
      ]
    },
    {
      "cell_type": "code",
      "metadata": {
        "id": "7qpcChH6im-Z",
        "colab_type": "code",
        "colab": {},
        "outputId": "89f97da0-523e-4bf4-d9aa-fbcf1a31b4f3"
      },
      "source": [
        "siec.xpath(\"Ksiegarnia/*\")"
      ],
      "execution_count": null,
      "outputs": [
        {
          "output_type": "execute_result",
          "data": {
            "text/plain": [
              "[<Element Wlasciciel at 0x7f1bd0405410>,\n",
              " <Element Ksiazka at 0x7f1bd03f3d20>,\n",
              " <Element Ksiazka at 0x7f1bd03fbeb0>,\n",
              " <Element Ksiazka at 0x7f1bd0402050>,\n",
              " <Element Ksiazka at 0x7f1bd03fbfa0>,\n",
              " <Element Wlasciciel at 0x7f1bd04054b0>,\n",
              " <Element Ksiazka at 0x7f1bd04020f0>,\n",
              " <Element Ksiazka at 0x7f1bd04020a0>,\n",
              " <Element Ksiazka at 0x7f1bd0402190>,\n",
              " <Element Wlasciciel at 0x7f1bd0405500>,\n",
              " <Element Ksiazka at 0x7f1bd04021e0>,\n",
              " <Element Ksiazka at 0x7f1bd0402140>,\n",
              " <Element Ksiazka at 0x7f1bd0402280>]"
            ]
          },
          "metadata": {
            "tags": []
          },
          "execution_count": 20
        }
      ]
    },
    {
      "cell_type": "code",
      "metadata": {
        "id": "nIaL5KbHim-d",
        "colab_type": "code",
        "colab": {},
        "outputId": "3b372f59-a1d5-4f96-af53-f44d8e859a74"
      },
      "source": [
        "ksiazka.xpath(\"Ksiegarnia/*\")"
      ],
      "execution_count": null,
      "outputs": [
        {
          "output_type": "execute_result",
          "data": {
            "text/plain": [
              "[]"
            ]
          },
          "metadata": {
            "tags": []
          },
          "execution_count": 21
        }
      ]
    },
    {
      "cell_type": "code",
      "metadata": {
        "id": "6TXsTHnRim-f",
        "colab_type": "code",
        "colab": {},
        "outputId": "a5af49f2-6697-4682-f334-06b052db3f4e"
      },
      "source": [
        "ksiazka.xpath(\"../*\")"
      ],
      "execution_count": null,
      "outputs": [
        {
          "output_type": "execute_result",
          "data": {
            "text/plain": [
              "[<Element Wlasciciel at 0x7f1bd0405410>,\n",
              " <Element Ksiazka at 0x7f1bd03f3d20>,\n",
              " <Element Ksiazka at 0x7f1bd03fbeb0>,\n",
              " <Element Ksiazka at 0x7f1bd0402050>,\n",
              " <Element Ksiazka at 0x7f1bd03fbfa0>]"
            ]
          },
          "metadata": {
            "tags": []
          },
          "execution_count": 22
        }
      ]
    },
    {
      "cell_type": "code",
      "metadata": {
        "id": "XM8O80_Kim-i",
        "colab_type": "code",
        "colab": {},
        "outputId": "04bdc0bb-3de8-48f8-a887-78422454a344"
      },
      "source": [
        "ksiazka.getparent()"
      ],
      "execution_count": null,
      "outputs": [
        {
          "output_type": "execute_result",
          "data": {
            "text/plain": [
              "<Element Ksiegarnia at 0x7f1bd03f7cd0>"
            ]
          },
          "metadata": {
            "tags": []
          },
          "execution_count": 23
        }
      ]
    },
    {
      "cell_type": "markdown",
      "metadata": {
        "id": "HjV5NOLaim-l",
        "colab_type": "text"
      },
      "source": [
        "## Dowolne miejsce w dokumencie"
      ]
    },
    {
      "cell_type": "code",
      "metadata": {
        "id": "3ZOT0kejim-l",
        "colab_type": "code",
        "colab": {},
        "outputId": "1c39c43c-a6cb-4016-e3d7-b6e8e0fad4b9"
      },
      "source": [
        "ksiazka.xpath(\"//Wlasciciel\")"
      ],
      "execution_count": null,
      "outputs": [
        {
          "output_type": "execute_result",
          "data": {
            "text/plain": [
              "[<Element Wlasciciel at 0x7f1bd0405410>,\n",
              " <Element Wlasciciel at 0x7f1bd04054b0>,\n",
              " <Element Wlasciciel at 0x7f1bd0405500>]"
            ]
          },
          "metadata": {
            "tags": []
          },
          "execution_count": 25
        }
      ]
    },
    {
      "cell_type": "code",
      "metadata": {
        "collapsed": true,
        "id": "zm_OIU1vim-o",
        "colab_type": "code",
        "colab": {},
        "outputId": "51f9f6fd-ffc3-4297-8043-79fad2add096"
      },
      "source": [
        "ksiazka.xpath(\"/Siec//*\") # dowolni potomkowie znacznika, także wnuki i prawnuki"
      ],
      "execution_count": null,
      "outputs": [
        {
          "output_type": "execute_result",
          "data": {
            "text/plain": [
              "[<Element Ksiegarnia at 0x7f1bd03f7cd0>,\n",
              " <Element Wlasciciel at 0x7f1bd0405410>,\n",
              " <Element Ksiazka at 0x7f1bd03f3d20>,\n",
              " <Element Ksiazka at 0x7f1bd03fbeb0>,\n",
              " <Element Ksiazka at 0x7f1bd0402050>,\n",
              " <Element Ksiazka at 0x7f1bd03fbfa0>,\n",
              " <Element Ksiegarnia at 0x7f1bd03f7d70>,\n",
              " <Element Wlasciciel at 0x7f1bd04054b0>,\n",
              " <Element Ksiazka at 0x7f1bd04020f0>,\n",
              " <Element Ksiazka at 0x7f1bd04020a0>,\n",
              " <Element Ksiazka at 0x7f1bd0402190>,\n",
              " <Element Ksiegarnia at 0x7f1bd03f7dc0>,\n",
              " <Element Wlasciciel at 0x7f1bd0405500>,\n",
              " <Element Ksiazka at 0x7f1bd04021e0>,\n",
              " <Element Ksiazka at 0x7f1bd0402140>,\n",
              " <Element Ksiazka at 0x7f1bd0402280>]"
            ]
          },
          "metadata": {
            "tags": []
          },
          "execution_count": 26
        }
      ]
    },
    {
      "cell_type": "markdown",
      "metadata": {
        "id": "aybeTunaim-r",
        "colab_type": "text"
      },
      "source": [
        "# Zadanie 1.7"
      ]
    },
    {
      "cell_type": "markdown",
      "metadata": {
        "id": "Kb_COmDlim-s",
        "colab_type": "text"
      },
      "source": [
        "### a) Wylistuj, pod jakimi adresami znajdują się księgarnie w tej sieci księgarni"
      ]
    },
    {
      "cell_type": "code",
      "metadata": {
        "id": "xYN9aKsGim-t",
        "colab_type": "code",
        "colab": {},
        "outputId": "843bdfa9-526c-4d1d-dc04-43ba80150516"
      },
      "source": [
        "siec.xpath(\"//@adres\")"
      ],
      "execution_count": null,
      "outputs": [
        {
          "output_type": "execute_result",
          "data": {
            "text/plain": [
              "['Aleje Jerozolimskie', '3 Maja', 'Marywilska']"
            ]
          },
          "metadata": {
            "tags": []
          },
          "execution_count": 27
        }
      ]
    },
    {
      "cell_type": "code",
      "metadata": {
        "id": "hW8Mkqhtim-w",
        "colab_type": "code",
        "colab": {},
        "outputId": "6cd8110f-5575-4340-806c-c52186226836"
      },
      "source": [
        "siec.xpath(\"/Siec/Ksiegarnia/@adres\")"
      ],
      "execution_count": null,
      "outputs": [
        {
          "output_type": "execute_result",
          "data": {
            "text/plain": [
              "['Aleje Jerozolimskie', '3 Maja', 'Marywilska']"
            ]
          },
          "metadata": {
            "tags": []
          },
          "execution_count": 28
        }
      ]
    },
    {
      "cell_type": "code",
      "metadata": {
        "id": "LH3sOwe_im-z",
        "colab_type": "code",
        "colab": {},
        "outputId": "a3c577bd-274c-4659-bef9-54e0980d64b7"
      },
      "source": [
        "siec.xpath(\"Ksiegarnia/@adres\")"
      ],
      "execution_count": null,
      "outputs": [
        {
          "output_type": "execute_result",
          "data": {
            "text/plain": [
              "['Aleje Jerozolimskie', '3 Maja', 'Marywilska']"
            ]
          },
          "metadata": {
            "tags": []
          },
          "execution_count": 29
        }
      ]
    },
    {
      "cell_type": "markdown",
      "metadata": {
        "id": "6bb99rp8im-2",
        "colab_type": "text"
      },
      "source": [
        "## b) Jakie są dostępne wszystkie książki w tej sieci księgarni"
      ]
    },
    {
      "cell_type": "code",
      "metadata": {
        "collapsed": true,
        "id": "Mtjr8Y_lim-3",
        "colab_type": "code",
        "colab": {},
        "outputId": "d0a69e71-9751-4edb-e1ea-5311f6dd4219"
      },
      "source": [
        "siec.xpath(\"//text()\")"
      ],
      "execution_count": null,
      "outputs": [
        {
          "output_type": "execute_result",
          "data": {
            "text/plain": [
              "['\\n\\n\\t',\n",
              " '\\n\\t',\n",
              " '\\n\\t',\n",
              " '\\n\\tOkaleczone oko\\n\\t',\n",
              " '\\n\\t',\n",
              " '\\n\\tOślepiający nóż\\n\\t',\n",
              " '\\n\\t',\n",
              " '\\n\\tCzarny Pryzmat\\n\\t',\n",
              " '\\n\\t',\n",
              " '\\n\\tKrwawe Zwierciadło\\n\\t',\n",
              " '\\n\\t',\n",
              " '\\n\\n\\t',\n",
              " '\\n\\t',\n",
              " '\\n\\t',\n",
              " '\\n\\tCzarny Pryzmat\\n\\t',\n",
              " '\\n\\t',\n",
              " '\\n\\tKrwawe Zwierciadło\\n\\t',\n",
              " '\\n\\t',\n",
              " '\\n\\tDuma i uprzedzenie\\n\\t',\n",
              " '\\n\\t',\n",
              " '\\n\\n\\t',\n",
              " '\\n\\t',\n",
              " '\\n\\t',\n",
              " '\\n\\tOkaleczone oko\\n\\t',\n",
              " '\\n\\t',\n",
              " '\\n\\tOślepiający nóż\\n\\t',\n",
              " '\\n\\t',\n",
              " '\\n\\tDuma i uprzedzenie\\n\\t',\n",
              " '\\n\\t',\n",
              " '\\n\\n']"
            ]
          },
          "metadata": {
            "tags": []
          },
          "execution_count": 30
        }
      ]
    },
    {
      "cell_type": "code",
      "metadata": {
        "collapsed": true,
        "id": "54X7an3Rim-7",
        "colab_type": "code",
        "colab": {},
        "outputId": "417aa982-bc6e-454e-daac-39530ce02473"
      },
      "source": [
        "siec.xpath(\"//Ksiazka/text()\")"
      ],
      "execution_count": null,
      "outputs": [
        {
          "output_type": "execute_result",
          "data": {
            "text/plain": [
              "['\\n\\tOkaleczone oko\\n\\t',\n",
              " '\\n\\tOślepiający nóż\\n\\t',\n",
              " '\\n\\tCzarny Pryzmat\\n\\t',\n",
              " '\\n\\tKrwawe Zwierciadło\\n\\t',\n",
              " '\\n\\tCzarny Pryzmat\\n\\t',\n",
              " '\\n\\tKrwawe Zwierciadło\\n\\t',\n",
              " '\\n\\tDuma i uprzedzenie\\n\\t',\n",
              " '\\n\\tOkaleczone oko\\n\\t',\n",
              " '\\n\\tOślepiający nóż\\n\\t',\n",
              " '\\n\\tDuma i uprzedzenie\\n\\t']"
            ]
          },
          "metadata": {
            "tags": []
          },
          "execution_count": 31
        }
      ]
    },
    {
      "cell_type": "code",
      "metadata": {
        "collapsed": true,
        "id": "8gqVmt2rim--",
        "colab_type": "code",
        "colab": {},
        "outputId": "481eb508-3a49-45bd-cd17-94984f604942"
      },
      "source": [
        "siec.xpath(\"/Siec/Ksiegarnia/Ksiazka/text()\")"
      ],
      "execution_count": null,
      "outputs": [
        {
          "output_type": "execute_result",
          "data": {
            "text/plain": [
              "['\\n\\tOkaleczone oko\\n\\t',\n",
              " '\\n\\tOślepiający nóż\\n\\t',\n",
              " '\\n\\tCzarny Pryzmat\\n\\t',\n",
              " '\\n\\tKrwawe Zwierciadło\\n\\t',\n",
              " '\\n\\tCzarny Pryzmat\\n\\t',\n",
              " '\\n\\tKrwawe Zwierciadło\\n\\t',\n",
              " '\\n\\tDuma i uprzedzenie\\n\\t',\n",
              " '\\n\\tOkaleczone oko\\n\\t',\n",
              " '\\n\\tOślepiający nóż\\n\\t',\n",
              " '\\n\\tDuma i uprzedzenie\\n\\t']"
            ]
          },
          "metadata": {
            "tags": []
          },
          "execution_count": 32
        }
      ]
    },
    {
      "cell_type": "code",
      "metadata": {
        "id": "_-jxAhReim_B",
        "colab_type": "code",
        "colab": {},
        "outputId": "026291a7-67ca-4aba-e016-c770ecb9101f"
      },
      "source": [
        "[tytul.strip() for tytul in siec.xpath(\"Ksiegarnia/Ksiazka/text()\")]"
      ],
      "execution_count": null,
      "outputs": [
        {
          "output_type": "execute_result",
          "data": {
            "text/plain": [
              "['Okaleczone oko',\n",
              " 'Oślepiający nóż',\n",
              " 'Czarny Pryzmat',\n",
              " 'Krwawe Zwierciadło',\n",
              " 'Czarny Pryzmat',\n",
              " 'Krwawe Zwierciadło',\n",
              " 'Duma i uprzedzenie',\n",
              " 'Okaleczone oko',\n",
              " 'Oślepiający nóż',\n",
              " 'Duma i uprzedzenie']"
            ]
          },
          "metadata": {
            "tags": []
          },
          "execution_count": 34
        }
      ]
    },
    {
      "cell_type": "markdown",
      "metadata": {
        "id": "K0FyL09jim_D",
        "colab_type": "text"
      },
      "source": [
        "## c) Jakie są dostępne wszystkie książki w tej sieci księgarni, które są z gatunku Fantasy"
      ]
    },
    {
      "cell_type": "code",
      "metadata": {
        "id": "oJad2SXmim_D",
        "colab_type": "code",
        "colab": {},
        "outputId": "7687fbd7-e114-476a-c6ce-6a6ae01095f3"
      },
      "source": [
        "[tytul.strip() for tytul in siec.xpath(\"Ksiegarnia/Ksiazka[@gatunek='Fantasy']/text()\")]"
      ],
      "execution_count": null,
      "outputs": [
        {
          "output_type": "execute_result",
          "data": {
            "text/plain": [
              "['Okaleczone oko',\n",
              " 'Oślepiający nóż',\n",
              " 'Czarny Pryzmat',\n",
              " 'Krwawe Zwierciadło',\n",
              " 'Czarny Pryzmat',\n",
              " 'Krwawe Zwierciadło',\n",
              " 'Okaleczone oko',\n",
              " 'Oślepiający nóż']"
            ]
          },
          "metadata": {
            "tags": []
          },
          "execution_count": 35
        }
      ]
    },
    {
      "cell_type": "markdown",
      "metadata": {
        "id": "ncVS3FlFim_E",
        "colab_type": "text"
      },
      "source": [
        "## d) Wylistuj w ładnej formie wszystkie książki w tej sieci księgarni, które są z gatunku Fantasy, wraz z adresami księgarni, gdzie można je nabyć"
      ]
    },
    {
      "cell_type": "code",
      "metadata": {
        "id": "1MUxIP07im_F",
        "colab_type": "code",
        "colab": {}
      },
      "source": [
        "Tytul - adres\n",
        "Tytul - adres"
      ],
      "execution_count": null,
      "outputs": []
    },
    {
      "cell_type": "code",
      "metadata": {
        "id": "TXiyOa7wim_H",
        "colab_type": "code",
        "colab": {},
        "outputId": "370f5721-cff9-48b8-daea-152fe5c7a51c"
      },
      "source": [
        "siec.keys()"
      ],
      "execution_count": null,
      "outputs": [
        {
          "output_type": "execute_result",
          "data": {
            "text/plain": [
              "['nazwa']"
            ]
          },
          "metadata": {
            "tags": []
          },
          "execution_count": 36
        }
      ]
    },
    {
      "cell_type": "code",
      "metadata": {
        "id": "QZDFaUi_im_I",
        "colab_type": "code",
        "colab": {},
        "outputId": "cf157860-e2f1-4908-f3da-d385225ab7aa"
      },
      "source": [
        "siec.xpath(\"//Ksiazka[@gatunek='Fantasy']/text()|//Ksiegarnia/@adres\")"
      ],
      "execution_count": null,
      "outputs": [
        {
          "output_type": "execute_result",
          "data": {
            "text/plain": [
              "['Aleje Jerozolimskie',\n",
              " '\\n\\tOkaleczone oko\\n\\t',\n",
              " '\\n\\tOślepiający nóż\\n\\t',\n",
              " '\\n\\tCzarny Pryzmat\\n\\t',\n",
              " '\\n\\tKrwawe Zwierciadło\\n\\t',\n",
              " '3 Maja',\n",
              " '\\n\\tCzarny Pryzmat\\n\\t',\n",
              " '\\n\\tKrwawe Zwierciadło\\n\\t',\n",
              " 'Marywilska',\n",
              " '\\n\\tOkaleczone oko\\n\\t',\n",
              " '\\n\\tOślepiający nóż\\n\\t']"
            ]
          },
          "metadata": {
            "tags": []
          },
          "execution_count": 37
        }
      ]
    },
    {
      "cell_type": "code",
      "metadata": {
        "id": "GKkYGpqRim_K",
        "colab_type": "code",
        "colab": {},
        "outputId": "1dc2e929-89b0-434a-f4f5-08bcc1e078e0"
      },
      "source": [
        "for ksiazka in siec.xpath(\"//Ksiazka[@gatunek='Fantasy']\"):\n",
        "    print(f\"{ksiazka.text.strip()} - {ksiazka.getparent().get('adres')}\")"
      ],
      "execution_count": null,
      "outputs": [
        {
          "output_type": "stream",
          "text": [
            "Okaleczone oko - Aleje Jerozolimskie\n",
            "Oślepiający nóż - Aleje Jerozolimskie\n",
            "Czarny Pryzmat - Aleje Jerozolimskie\n",
            "Krwawe Zwierciadło - Aleje Jerozolimskie\n",
            "Czarny Pryzmat - 3 Maja\n",
            "Krwawe Zwierciadło - 3 Maja\n",
            "Okaleczone oko - Marywilska\n",
            "Oślepiający nóż - Marywilska\n"
          ],
          "name": "stdout"
        }
      ]
    },
    {
      "cell_type": "code",
      "metadata": {
        "id": "_FTUQJnlim_M",
        "colab_type": "code",
        "colab": {},
        "outputId": "a13792df-f5ff-4d75-9ac5-cb44b47bf58b"
      },
      "source": [
        "for ksiazka in siec.xpath(\"//Ksiazka[@gatunek='Fantasy']\"):\n",
        "    print(f\"{ksiazka.xpath('text()')[0].strip()} - {ksiazka.xpath('../@adres')[0]}\")"
      ],
      "execution_count": null,
      "outputs": [
        {
          "output_type": "stream",
          "text": [
            "Okaleczone oko - Aleje Jerozolimskie\n",
            "Oślepiający nóż - Aleje Jerozolimskie\n",
            "Czarny Pryzmat - Aleje Jerozolimskie\n",
            "Krwawe Zwierciadło - Aleje Jerozolimskie\n",
            "Czarny Pryzmat - 3 Maja\n",
            "Krwawe Zwierciadło - 3 Maja\n",
            "Okaleczone oko - Marywilska\n",
            "Oślepiający nóż - Marywilska\n"
          ],
          "name": "stdout"
        }
      ]
    },
    {
      "cell_type": "markdown",
      "metadata": {
        "id": "USBLyfs0im_N",
        "colab_type": "text"
      },
      "source": [
        "## e) Wylistuj w ładnej formie, obok siebie, adres księgarni i nazwisko jej właściciela"
      ]
    },
    {
      "cell_type": "code",
      "metadata": {
        "id": "H-d8OwOnim_O",
        "colab_type": "code",
        "colab": {},
        "outputId": "03df9c99-c42a-4b51-d85e-f021aeb49688"
      },
      "source": [
        "for ksiegarnia in siec.xpath(\"//Ksiegarnia\"):\n",
        "    wlasciciel = ksiegarnia.xpath(\"Wlasciciel\")[0]\n",
        "    print(f\"{ksiegarnia.get('adres')} - {wlasciciel.get('imie')} {wlasciciel.get('nazwisko')}\")"
      ],
      "execution_count": null,
      "outputs": [
        {
          "output_type": "stream",
          "text": [
            "Aleje Jerozolimskie - Maja Kowalska\n",
            "3 Maja - Matylda Jankowska\n",
            "Marywilska - Jan Nowak\n"
          ],
          "name": "stdout"
        }
      ]
    },
    {
      "cell_type": "markdown",
      "metadata": {
        "id": "I5Zo0zZuim_P",
        "colab_type": "text"
      },
      "source": [
        "## f) Znajdź adres księgarni, gdzie właścicielem jest Matylda Jankowska"
      ]
    },
    {
      "cell_type": "code",
      "metadata": {
        "id": "Bu9OZECTim_Q",
        "colab_type": "code",
        "colab": {},
        "outputId": "572534d2-3f93-454b-e818-762684f6f3fb"
      },
      "source": [
        "siec.xpath(\"//Wlasciciel[@imie='Matylda' and @nazwisko='Jankowska']/../@adres\")"
      ],
      "execution_count": null,
      "outputs": [
        {
          "output_type": "execute_result",
          "data": {
            "text/plain": [
              "['3 Maja']"
            ]
          },
          "metadata": {
            "tags": []
          },
          "execution_count": 50
        }
      ]
    },
    {
      "cell_type": "markdown",
      "metadata": {
        "id": "gbHMCdtYim_S",
        "colab_type": "text"
      },
      "source": [
        "## g) Jakie są dostępne wszystkie książki w księgarni przy ulicy 3 Maja, których autorem jest Jane Austen"
      ]
    },
    {
      "cell_type": "code",
      "metadata": {
        "id": "C3v_8Fxjim_S",
        "colab_type": "code",
        "colab": {},
        "outputId": "b4b66fee-0411-4d49-efe6-e5e03a7dfed9"
      },
      "source": [
        "siec.xpath(\"//Ksiegarnia[@adres='3 Maja']/Ksiazka[@autor='Jane Austen']/text()\")"
      ],
      "execution_count": null,
      "outputs": [
        {
          "output_type": "execute_result",
          "data": {
            "text/plain": [
              "['\\n\\tDuma i uprzedzenie\\n\\t']"
            ]
          },
          "metadata": {
            "tags": []
          },
          "execution_count": 51
        }
      ]
    },
    {
      "cell_type": "markdown",
      "metadata": {
        "id": "ueU2TO5zim_U",
        "colab_type": "text"
      },
      "source": [
        "## h) Jakie są książki z atrybutem liczba"
      ]
    },
    {
      "cell_type": "code",
      "metadata": {
        "id": "f_CYnxboim_U",
        "colab_type": "code",
        "colab": {},
        "outputId": "2bc54b49-4d98-47ef-f243-3cd50361d49b"
      },
      "source": [
        "siec.xpath(\"//Ksiazka[@liczba]/text()\")"
      ],
      "execution_count": null,
      "outputs": [
        {
          "output_type": "execute_result",
          "data": {
            "text/plain": [
              "['\\n\\tOkaleczone oko\\n\\t',\n",
              " '\\n\\tOślepiający nóż\\n\\t',\n",
              " '\\n\\tCzarny Pryzmat\\n\\t',\n",
              " '\\n\\tKrwawe Zwierciadło\\n\\t',\n",
              " '\\n\\tCzarny Pryzmat\\n\\t',\n",
              " '\\n\\tKrwawe Zwierciadło\\n\\t',\n",
              " '\\n\\tDuma i uprzedzenie\\n\\t']"
            ]
          },
          "metadata": {
            "tags": []
          },
          "execution_count": 52
        }
      ]
    },
    {
      "cell_type": "markdown",
      "metadata": {
        "id": "g9tJbvIoim_X",
        "colab_type": "text"
      },
      "source": [
        "## i) liczba >= 3"
      ]
    },
    {
      "cell_type": "code",
      "metadata": {
        "id": "a9gopf1Wim_Y",
        "colab_type": "code",
        "colab": {},
        "outputId": "e32da3ee-5d07-4ed6-d264-1b84103bdae2"
      },
      "source": [
        "siec.xpath(\"//Ksiazka[@liczba>=3]/text()\")"
      ],
      "execution_count": null,
      "outputs": [
        {
          "output_type": "execute_result",
          "data": {
            "text/plain": [
              "['\\n\\tOkaleczone oko\\n\\t',\n",
              " '\\n\\tKrwawe Zwierciadło\\n\\t',\n",
              " '\\n\\tDuma i uprzedzenie\\n\\t']"
            ]
          },
          "metadata": {
            "tags": []
          },
          "execution_count": 53
        }
      ]
    }
  ]
}