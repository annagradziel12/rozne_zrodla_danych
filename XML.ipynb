{
 "cells": [
  {
   "cell_type": "code",
   "execution_count": 1,
   "metadata": {},
   "outputs": [],
   "source": [
    "# https://www.w3schools.com/xml/xpath_syntax.asp\n",
    "# https://www.w3schools.com/xml/xpath_examples.asp"
   ]
  },
  {
   "cell_type": "code",
   "execution_count": 2,
   "metadata": {},
   "outputs": [
    {
     "data": {
      "text/plain": [
       "<lxml.etree._ElementTree at 0x7f1bd8157690>"
      ]
     },
     "execution_count": 2,
     "metadata": {},
     "output_type": "execute_result"
    }
   ],
   "source": [
    "from lxml import etree\n",
    "tree = etree.parse(\"siecKsiegarni.xml\")\n",
    "tree"
   ]
  },
  {
   "cell_type": "code",
   "execution_count": 3,
   "metadata": {},
   "outputs": [
    {
     "data": {
      "text/plain": [
       "<Element Siec at 0x7f1bd80ce500>"
      ]
     },
     "execution_count": 3,
     "metadata": {},
     "output_type": "execute_result"
    }
   ],
   "source": [
    "siec = tree.getroot()\n",
    "siec"
   ]
  },
  {
   "cell_type": "code",
   "execution_count": 6,
   "metadata": {
    "collapsed": true
   },
   "outputs": [
    {
     "name": "stdout",
     "output_type": "stream",
     "text": [
      "b'<Siec nazwa=\"CiekaweKsiazki\">\\n\\n\\t<Ksiegarnia adres=\"Aleje Jerozolimskie\">\\n\\t<Wlasciciel imie=\"Maja\" nazwisko=\"Kowalska\"/>\\n\\t<Ksiazka gatunek=\"Fantasy\" autor=\"Brent Weeks\" liczba=\"3\">\\n\\tOkaleczone oko\\n\\t</Ksiazka>\\n\\t<Ksiazka gatunek=\"Fantasy\" autor=\"Brent Weeks\" liczba=\"1\">\\n\\tO&#347;lepiaj&#261;cy n&#243;&#380;\\n\\t</Ksiazka>\\n\\t<Ksiazka gatunek=\"Fantasy\" autor=\"Brent Weeks\" liczba=\"2\">\\n\\tCzarny Pryzmat\\n\\t</Ksiazka>\\n\\t<Ksiazka gatunek=\"Fantasy\" autor=\"Brent Weeks\" liczba=\"5\">\\n\\tKrwawe Zwierciad&#322;o\\n\\t</Ksiazka>\\n\\t</Ksiegarnia>\\n\\n\\t<Ksiegarnia adres=\"3 Maja\">\\n\\t<Wlasciciel imie=\"Matylda\" nazwisko=\"Jankowska\"/>\\n\\t<Ksiazka gatunek=\"Fantasy\" autor=\"Brent Weeks\" liczba=\"1\">\\n\\tCzarny Pryzmat\\n\\t</Ksiazka>\\n\\t<Ksiazka gatunek=\"Fantasy\" autor=\"Brent Weeks\" liczba=\"2\">\\n\\tKrwawe Zwierciad&#322;o\\n\\t</Ksiazka>\\n\\t<Ksiazka gatunek=\"Klasyka\" autor=\"Jane Austen\" liczba=\"3\">\\n\\tDuma i uprzedzenie\\n\\t</Ksiazka>\\n\\t</Ksiegarnia>\\n\\n\\t<Ksiegarnia adres=\"Marywilska\">\\n\\t<Wlasciciel imie=\"Jan\" nazwisko=\"Nowak\"/>\\n\\t<Ksiazka gatunek=\"Fantasy\" autor=\"Brent Weeks\">\\n\\tOkaleczone oko\\n\\t</Ksiazka>\\n\\t<Ksiazka gatunek=\"Fantasy\" autor=\"Brent Weeks\">\\n\\tO&#347;lepiaj&#261;cy n&#243;&#380;\\n\\t</Ksiazka>\\n\\t<Ksiazka gatunek=\"Klasyka\" autor=\"Jane Austen\">\\n\\tDuma i uprzedzenie\\n\\t</Ksiazka>\\n\\t</Ksiegarnia>\\n\\n</Siec>\\n'\n"
     ]
    }
   ],
   "source": [
    "print(etree.tostring(siec, pretty_print=True))"
   ]
  },
  {
   "cell_type": "code",
   "execution_count": 7,
   "metadata": {},
   "outputs": [
    {
     "data": {
      "text/plain": [
       "'Siec'"
      ]
     },
     "execution_count": 7,
     "metadata": {},
     "output_type": "execute_result"
    }
   ],
   "source": [
    "siec.tag # nazwa znacznika"
   ]
  },
  {
   "cell_type": "code",
   "execution_count": 9,
   "metadata": {},
   "outputs": [
    {
     "data": {
      "text/plain": [
       "['nazwa']"
      ]
     },
     "execution_count": 9,
     "metadata": {},
     "output_type": "execute_result"
    }
   ],
   "source": [
    "siec.keys()"
   ]
  },
  {
   "cell_type": "code",
   "execution_count": 10,
   "metadata": {},
   "outputs": [
    {
     "data": {
      "text/plain": [
       "'CiekaweKsiazki'"
      ]
     },
     "execution_count": 10,
     "metadata": {},
     "output_type": "execute_result"
    }
   ],
   "source": [
    "siec.get(\"nazwa\")"
   ]
  },
  {
   "cell_type": "code",
   "execution_count": 11,
   "metadata": {},
   "outputs": [
    {
     "data": {
      "text/plain": [
       "'Fantasy'"
      ]
     },
     "execution_count": 11,
     "metadata": {},
     "output_type": "execute_result"
    }
   ],
   "source": [
    "ksiazka = siec[0][1]\n",
    "ksiazka.get(\"gatunek\")"
   ]
  },
  {
   "cell_type": "code",
   "execution_count": 12,
   "metadata": {},
   "outputs": [
    {
     "data": {
      "text/plain": [
       "'\\n\\tOkaleczone oko\\n\\t'"
      ]
     },
     "execution_count": 12,
     "metadata": {},
     "output_type": "execute_result"
    }
   ],
   "source": [
    "ksiazka.text"
   ]
  },
  {
   "cell_type": "code",
   "execution_count": 13,
   "metadata": {},
   "outputs": [
    {
     "data": {
      "text/plain": [
       "'Okaleczone oko'"
      ]
     },
     "execution_count": 13,
     "metadata": {},
     "output_type": "execute_result"
    }
   ],
   "source": [
    "ksiazka.text.strip()"
   ]
  },
  {
   "cell_type": "markdown",
   "metadata": {},
   "source": [
    "# XPath"
   ]
  },
  {
   "cell_type": "markdown",
   "metadata": {},
   "source": [
    "## Ścieżka bezwzględna (nie ma znaczenia, na rzecz jakiego znacznika to wywołujemy)"
   ]
  },
  {
   "cell_type": "code",
   "execution_count": 15,
   "metadata": {},
   "outputs": [
    {
     "data": {
      "text/plain": [
       "[<Element Ksiegarnia at 0x7f1bd03f7cd0>,\n",
       " <Element Ksiegarnia at 0x7f1bd03f7d70>,\n",
       " <Element Ksiegarnia at 0x7f1bd03f7dc0>]"
      ]
     },
     "execution_count": 15,
     "metadata": {},
     "output_type": "execute_result"
    }
   ],
   "source": [
    "siec.xpath(\"/Siec/*\")"
   ]
  },
  {
   "cell_type": "code",
   "execution_count": 16,
   "metadata": {},
   "outputs": [
    {
     "data": {
      "text/plain": [
       "[<Element Ksiegarnia at 0x7f1bd03f7cd0>,\n",
       " <Element Ksiegarnia at 0x7f1bd03f7d70>,\n",
       " <Element Ksiegarnia at 0x7f1bd03f7dc0>]"
      ]
     },
     "execution_count": 16,
     "metadata": {},
     "output_type": "execute_result"
    }
   ],
   "source": [
    "ksiazka.xpath(\"/Siec/*\")"
   ]
  },
  {
   "cell_type": "markdown",
   "metadata": {},
   "source": [
    "## Jak się odwołać do wnętrza (tekstu)"
   ]
  },
  {
   "cell_type": "code",
   "execution_count": 18,
   "metadata": {},
   "outputs": [
    {
     "data": {
      "text/plain": [
       "['\\n\\tOkaleczone oko\\n\\t',\n",
       " '\\n\\tOślepiający nóż\\n\\t',\n",
       " '\\n\\tCzarny Pryzmat\\n\\t',\n",
       " '\\n\\tKrwawe Zwierciadło\\n\\t',\n",
       " '\\n\\tCzarny Pryzmat\\n\\t',\n",
       " '\\n\\tKrwawe Zwierciadło\\n\\t',\n",
       " '\\n\\tDuma i uprzedzenie\\n\\t',\n",
       " '\\n\\tOkaleczone oko\\n\\t',\n",
       " '\\n\\tOślepiający nóż\\n\\t',\n",
       " '\\n\\tDuma i uprzedzenie\\n\\t']"
      ]
     },
     "execution_count": 18,
     "metadata": {},
     "output_type": "execute_result"
    }
   ],
   "source": [
    "ksiazka.xpath(\"/Siec/Ksiegarnia/Ksiazka/text()\")"
   ]
  },
  {
   "cell_type": "markdown",
   "metadata": {},
   "source": [
    "## Jak odwołać się do atrybutu"
   ]
  },
  {
   "cell_type": "code",
   "execution_count": 19,
   "metadata": {},
   "outputs": [
    {
     "data": {
      "text/plain": [
       "['Brent Weeks',\n",
       " 'Brent Weeks',\n",
       " 'Brent Weeks',\n",
       " 'Brent Weeks',\n",
       " 'Brent Weeks',\n",
       " 'Brent Weeks',\n",
       " 'Jane Austen',\n",
       " 'Brent Weeks',\n",
       " 'Brent Weeks',\n",
       " 'Jane Austen']"
      ]
     },
     "execution_count": 19,
     "metadata": {},
     "output_type": "execute_result"
    }
   ],
   "source": [
    "ksiazka.xpath(\"/Siec/Ksiegarnia/Ksiazka/@autor\")"
   ]
  },
  {
   "cell_type": "markdown",
   "metadata": {},
   "source": [
    "## Ścieżka względna (ma znaczenie, na rzecz jakiego znacznika wywołujemy)"
   ]
  },
  {
   "cell_type": "code",
   "execution_count": 20,
   "metadata": {},
   "outputs": [
    {
     "data": {
      "text/plain": [
       "[<Element Wlasciciel at 0x7f1bd0405410>,\n",
       " <Element Ksiazka at 0x7f1bd03f3d20>,\n",
       " <Element Ksiazka at 0x7f1bd03fbeb0>,\n",
       " <Element Ksiazka at 0x7f1bd0402050>,\n",
       " <Element Ksiazka at 0x7f1bd03fbfa0>,\n",
       " <Element Wlasciciel at 0x7f1bd04054b0>,\n",
       " <Element Ksiazka at 0x7f1bd04020f0>,\n",
       " <Element Ksiazka at 0x7f1bd04020a0>,\n",
       " <Element Ksiazka at 0x7f1bd0402190>,\n",
       " <Element Wlasciciel at 0x7f1bd0405500>,\n",
       " <Element Ksiazka at 0x7f1bd04021e0>,\n",
       " <Element Ksiazka at 0x7f1bd0402140>,\n",
       " <Element Ksiazka at 0x7f1bd0402280>]"
      ]
     },
     "execution_count": 20,
     "metadata": {},
     "output_type": "execute_result"
    }
   ],
   "source": [
    "siec.xpath(\"Ksiegarnia/*\")"
   ]
  },
  {
   "cell_type": "code",
   "execution_count": 21,
   "metadata": {},
   "outputs": [
    {
     "data": {
      "text/plain": [
       "[]"
      ]
     },
     "execution_count": 21,
     "metadata": {},
     "output_type": "execute_result"
    }
   ],
   "source": [
    "ksiazka.xpath(\"Ksiegarnia/*\")"
   ]
  },
  {
   "cell_type": "code",
   "execution_count": 22,
   "metadata": {},
   "outputs": [
    {
     "data": {
      "text/plain": [
       "[<Element Wlasciciel at 0x7f1bd0405410>,\n",
       " <Element Ksiazka at 0x7f1bd03f3d20>,\n",
       " <Element Ksiazka at 0x7f1bd03fbeb0>,\n",
       " <Element Ksiazka at 0x7f1bd0402050>,\n",
       " <Element Ksiazka at 0x7f1bd03fbfa0>]"
      ]
     },
     "execution_count": 22,
     "metadata": {},
     "output_type": "execute_result"
    }
   ],
   "source": [
    "ksiazka.xpath(\"../*\")"
   ]
  },
  {
   "cell_type": "code",
   "execution_count": 23,
   "metadata": {},
   "outputs": [
    {
     "data": {
      "text/plain": [
       "<Element Ksiegarnia at 0x7f1bd03f7cd0>"
      ]
     },
     "execution_count": 23,
     "metadata": {},
     "output_type": "execute_result"
    }
   ],
   "source": [
    "ksiazka.getparent()"
   ]
  },
  {
   "cell_type": "markdown",
   "metadata": {},
   "source": [
    "## Dowolne miejsce w dokumencie"
   ]
  },
  {
   "cell_type": "code",
   "execution_count": 25,
   "metadata": {},
   "outputs": [
    {
     "data": {
      "text/plain": [
       "[<Element Wlasciciel at 0x7f1bd0405410>,\n",
       " <Element Wlasciciel at 0x7f1bd04054b0>,\n",
       " <Element Wlasciciel at 0x7f1bd0405500>]"
      ]
     },
     "execution_count": 25,
     "metadata": {},
     "output_type": "execute_result"
    }
   ],
   "source": [
    "ksiazka.xpath(\"//Wlasciciel\")"
   ]
  },
  {
   "cell_type": "code",
   "execution_count": 26,
   "metadata": {
    "collapsed": true
   },
   "outputs": [
    {
     "data": {
      "text/plain": [
       "[<Element Ksiegarnia at 0x7f1bd03f7cd0>,\n",
       " <Element Wlasciciel at 0x7f1bd0405410>,\n",
       " <Element Ksiazka at 0x7f1bd03f3d20>,\n",
       " <Element Ksiazka at 0x7f1bd03fbeb0>,\n",
       " <Element Ksiazka at 0x7f1bd0402050>,\n",
       " <Element Ksiazka at 0x7f1bd03fbfa0>,\n",
       " <Element Ksiegarnia at 0x7f1bd03f7d70>,\n",
       " <Element Wlasciciel at 0x7f1bd04054b0>,\n",
       " <Element Ksiazka at 0x7f1bd04020f0>,\n",
       " <Element Ksiazka at 0x7f1bd04020a0>,\n",
       " <Element Ksiazka at 0x7f1bd0402190>,\n",
       " <Element Ksiegarnia at 0x7f1bd03f7dc0>,\n",
       " <Element Wlasciciel at 0x7f1bd0405500>,\n",
       " <Element Ksiazka at 0x7f1bd04021e0>,\n",
       " <Element Ksiazka at 0x7f1bd0402140>,\n",
       " <Element Ksiazka at 0x7f1bd0402280>]"
      ]
     },
     "execution_count": 26,
     "metadata": {},
     "output_type": "execute_result"
    }
   ],
   "source": [
    "ksiazka.xpath(\"/Siec//*\") # dowolni potomkowie znacznika, także wnuki i prawnuki"
   ]
  },
  {
   "cell_type": "markdown",
   "metadata": {},
   "source": [
    "# Zadanie 1.7"
   ]
  },
  {
   "cell_type": "markdown",
   "metadata": {},
   "source": [
    "### a) Wylistuj, pod jakimi adresami znajdują się księgarnie w tej sieci księgarni"
   ]
  },
  {
   "cell_type": "code",
   "execution_count": 27,
   "metadata": {},
   "outputs": [
    {
     "data": {
      "text/plain": [
       "['Aleje Jerozolimskie', '3 Maja', 'Marywilska']"
      ]
     },
     "execution_count": 27,
     "metadata": {},
     "output_type": "execute_result"
    }
   ],
   "source": [
    "siec.xpath(\"//@adres\")"
   ]
  },
  {
   "cell_type": "code",
   "execution_count": 28,
   "metadata": {},
   "outputs": [
    {
     "data": {
      "text/plain": [
       "['Aleje Jerozolimskie', '3 Maja', 'Marywilska']"
      ]
     },
     "execution_count": 28,
     "metadata": {},
     "output_type": "execute_result"
    }
   ],
   "source": [
    "siec.xpath(\"/Siec/Ksiegarnia/@adres\")"
   ]
  },
  {
   "cell_type": "code",
   "execution_count": 29,
   "metadata": {},
   "outputs": [
    {
     "data": {
      "text/plain": [
       "['Aleje Jerozolimskie', '3 Maja', 'Marywilska']"
      ]
     },
     "execution_count": 29,
     "metadata": {},
     "output_type": "execute_result"
    }
   ],
   "source": [
    "siec.xpath(\"Ksiegarnia/@adres\")"
   ]
  },
  {
   "cell_type": "markdown",
   "metadata": {},
   "source": [
    "## b) Jakie są dostępne wszystkie książki w tej sieci księgarni"
   ]
  },
  {
   "cell_type": "code",
   "execution_count": 30,
   "metadata": {
    "collapsed": true
   },
   "outputs": [
    {
     "data": {
      "text/plain": [
       "['\\n\\n\\t',\n",
       " '\\n\\t',\n",
       " '\\n\\t',\n",
       " '\\n\\tOkaleczone oko\\n\\t',\n",
       " '\\n\\t',\n",
       " '\\n\\tOślepiający nóż\\n\\t',\n",
       " '\\n\\t',\n",
       " '\\n\\tCzarny Pryzmat\\n\\t',\n",
       " '\\n\\t',\n",
       " '\\n\\tKrwawe Zwierciadło\\n\\t',\n",
       " '\\n\\t',\n",
       " '\\n\\n\\t',\n",
       " '\\n\\t',\n",
       " '\\n\\t',\n",
       " '\\n\\tCzarny Pryzmat\\n\\t',\n",
       " '\\n\\t',\n",
       " '\\n\\tKrwawe Zwierciadło\\n\\t',\n",
       " '\\n\\t',\n",
       " '\\n\\tDuma i uprzedzenie\\n\\t',\n",
       " '\\n\\t',\n",
       " '\\n\\n\\t',\n",
       " '\\n\\t',\n",
       " '\\n\\t',\n",
       " '\\n\\tOkaleczone oko\\n\\t',\n",
       " '\\n\\t',\n",
       " '\\n\\tOślepiający nóż\\n\\t',\n",
       " '\\n\\t',\n",
       " '\\n\\tDuma i uprzedzenie\\n\\t',\n",
       " '\\n\\t',\n",
       " '\\n\\n']"
      ]
     },
     "execution_count": 30,
     "metadata": {},
     "output_type": "execute_result"
    }
   ],
   "source": [
    "siec.xpath(\"//text()\")"
   ]
  },
  {
   "cell_type": "code",
   "execution_count": 31,
   "metadata": {
    "collapsed": true
   },
   "outputs": [
    {
     "data": {
      "text/plain": [
       "['\\n\\tOkaleczone oko\\n\\t',\n",
       " '\\n\\tOślepiający nóż\\n\\t',\n",
       " '\\n\\tCzarny Pryzmat\\n\\t',\n",
       " '\\n\\tKrwawe Zwierciadło\\n\\t',\n",
       " '\\n\\tCzarny Pryzmat\\n\\t',\n",
       " '\\n\\tKrwawe Zwierciadło\\n\\t',\n",
       " '\\n\\tDuma i uprzedzenie\\n\\t',\n",
       " '\\n\\tOkaleczone oko\\n\\t',\n",
       " '\\n\\tOślepiający nóż\\n\\t',\n",
       " '\\n\\tDuma i uprzedzenie\\n\\t']"
      ]
     },
     "execution_count": 31,
     "metadata": {},
     "output_type": "execute_result"
    }
   ],
   "source": [
    "siec.xpath(\"//Ksiazka/text()\")"
   ]
  },
  {
   "cell_type": "code",
   "execution_count": 32,
   "metadata": {
    "collapsed": true
   },
   "outputs": [
    {
     "data": {
      "text/plain": [
       "['\\n\\tOkaleczone oko\\n\\t',\n",
       " '\\n\\tOślepiający nóż\\n\\t',\n",
       " '\\n\\tCzarny Pryzmat\\n\\t',\n",
       " '\\n\\tKrwawe Zwierciadło\\n\\t',\n",
       " '\\n\\tCzarny Pryzmat\\n\\t',\n",
       " '\\n\\tKrwawe Zwierciadło\\n\\t',\n",
       " '\\n\\tDuma i uprzedzenie\\n\\t',\n",
       " '\\n\\tOkaleczone oko\\n\\t',\n",
       " '\\n\\tOślepiający nóż\\n\\t',\n",
       " '\\n\\tDuma i uprzedzenie\\n\\t']"
      ]
     },
     "execution_count": 32,
     "metadata": {},
     "output_type": "execute_result"
    }
   ],
   "source": [
    "siec.xpath(\"/Siec/Ksiegarnia/Ksiazka/text()\")"
   ]
  },
  {
   "cell_type": "code",
   "execution_count": 34,
   "metadata": {},
   "outputs": [
    {
     "data": {
      "text/plain": [
       "['Okaleczone oko',\n",
       " 'Oślepiający nóż',\n",
       " 'Czarny Pryzmat',\n",
       " 'Krwawe Zwierciadło',\n",
       " 'Czarny Pryzmat',\n",
       " 'Krwawe Zwierciadło',\n",
       " 'Duma i uprzedzenie',\n",
       " 'Okaleczone oko',\n",
       " 'Oślepiający nóż',\n",
       " 'Duma i uprzedzenie']"
      ]
     },
     "execution_count": 34,
     "metadata": {},
     "output_type": "execute_result"
    }
   ],
   "source": [
    "[tytul.strip() for tytul in siec.xpath(\"Ksiegarnia/Ksiazka/text()\")]"
   ]
  },
  {
   "cell_type": "markdown",
   "metadata": {},
   "source": [
    "## c) Jakie są dostępne wszystkie książki w tej sieci księgarni, które są z gatunku Fantasy"
   ]
  },
  {
   "cell_type": "code",
   "execution_count": 35,
   "metadata": {},
   "outputs": [
    {
     "data": {
      "text/plain": [
       "['Okaleczone oko',\n",
       " 'Oślepiający nóż',\n",
       " 'Czarny Pryzmat',\n",
       " 'Krwawe Zwierciadło',\n",
       " 'Czarny Pryzmat',\n",
       " 'Krwawe Zwierciadło',\n",
       " 'Okaleczone oko',\n",
       " 'Oślepiający nóż']"
      ]
     },
     "execution_count": 35,
     "metadata": {},
     "output_type": "execute_result"
    }
   ],
   "source": [
    "[tytul.strip() for tytul in siec.xpath(\"Ksiegarnia/Ksiazka[@gatunek='Fantasy']/text()\")]"
   ]
  },
  {
   "cell_type": "markdown",
   "metadata": {},
   "source": [
    "## d) Wylistuj w ładnej formie wszystkie książki w tej sieci księgarni, które są z gatunku Fantasy, wraz z adresami księgarni, gdzie można je nabyć"
   ]
  },
  {
   "cell_type": "code",
   "execution_count": null,
   "metadata": {},
   "outputs": [],
   "source": [
    "Tytul - adres\n",
    "Tytul - adres"
   ]
  },
  {
   "cell_type": "code",
   "execution_count": 36,
   "metadata": {},
   "outputs": [
    {
     "data": {
      "text/plain": [
       "['nazwa']"
      ]
     },
     "execution_count": 36,
     "metadata": {},
     "output_type": "execute_result"
    }
   ],
   "source": [
    "siec.keys()"
   ]
  },
  {
   "cell_type": "code",
   "execution_count": 37,
   "metadata": {},
   "outputs": [
    {
     "data": {
      "text/plain": [
       "['Aleje Jerozolimskie',\n",
       " '\\n\\tOkaleczone oko\\n\\t',\n",
       " '\\n\\tOślepiający nóż\\n\\t',\n",
       " '\\n\\tCzarny Pryzmat\\n\\t',\n",
       " '\\n\\tKrwawe Zwierciadło\\n\\t',\n",
       " '3 Maja',\n",
       " '\\n\\tCzarny Pryzmat\\n\\t',\n",
       " '\\n\\tKrwawe Zwierciadło\\n\\t',\n",
       " 'Marywilska',\n",
       " '\\n\\tOkaleczone oko\\n\\t',\n",
       " '\\n\\tOślepiający nóż\\n\\t']"
      ]
     },
     "execution_count": 37,
     "metadata": {},
     "output_type": "execute_result"
    }
   ],
   "source": [
    "siec.xpath(\"//Ksiazka[@gatunek='Fantasy']/text()|//Ksiegarnia/@adres\")"
   ]
  },
  {
   "cell_type": "code",
   "execution_count": 41,
   "metadata": {},
   "outputs": [
    {
     "name": "stdout",
     "output_type": "stream",
     "text": [
      "Okaleczone oko - Aleje Jerozolimskie\n",
      "Oślepiający nóż - Aleje Jerozolimskie\n",
      "Czarny Pryzmat - Aleje Jerozolimskie\n",
      "Krwawe Zwierciadło - Aleje Jerozolimskie\n",
      "Czarny Pryzmat - 3 Maja\n",
      "Krwawe Zwierciadło - 3 Maja\n",
      "Okaleczone oko - Marywilska\n",
      "Oślepiający nóż - Marywilska\n"
     ]
    }
   ],
   "source": [
    "for ksiazka in siec.xpath(\"//Ksiazka[@gatunek='Fantasy']\"):\n",
    "    print(f\"{ksiazka.text.strip()} - {ksiazka.getparent().get('adres')}\")"
   ]
  },
  {
   "cell_type": "code",
   "execution_count": 44,
   "metadata": {},
   "outputs": [
    {
     "name": "stdout",
     "output_type": "stream",
     "text": [
      "Okaleczone oko - Aleje Jerozolimskie\n",
      "Oślepiający nóż - Aleje Jerozolimskie\n",
      "Czarny Pryzmat - Aleje Jerozolimskie\n",
      "Krwawe Zwierciadło - Aleje Jerozolimskie\n",
      "Czarny Pryzmat - 3 Maja\n",
      "Krwawe Zwierciadło - 3 Maja\n",
      "Okaleczone oko - Marywilska\n",
      "Oślepiający nóż - Marywilska\n"
     ]
    }
   ],
   "source": [
    "for ksiazka in siec.xpath(\"//Ksiazka[@gatunek='Fantasy']\"):\n",
    "    print(f\"{ksiazka.xpath('text()')[0].strip()} - {ksiazka.xpath('../@adres')[0]}\")"
   ]
  },
  {
   "cell_type": "markdown",
   "metadata": {},
   "source": [
    "## e) Wylistuj w ładnej formie, obok siebie, adres księgarni i nazwisko jej właściciela"
   ]
  },
  {
   "cell_type": "code",
   "execution_count": 46,
   "metadata": {},
   "outputs": [
    {
     "name": "stdout",
     "output_type": "stream",
     "text": [
      "Aleje Jerozolimskie - Maja Kowalska\n",
      "3 Maja - Matylda Jankowska\n",
      "Marywilska - Jan Nowak\n"
     ]
    }
   ],
   "source": [
    "for ksiegarnia in siec.xpath(\"//Ksiegarnia\"):\n",
    "    wlasciciel = ksiegarnia.xpath(\"Wlasciciel\")[0]\n",
    "    print(f\"{ksiegarnia.get('adres')} - {wlasciciel.get('imie')} {wlasciciel.get('nazwisko')}\")"
   ]
  },
  {
   "cell_type": "markdown",
   "metadata": {},
   "source": [
    "## f) Znajdź adres księgarni, gdzie właścicielem jest Matylda Jankowska"
   ]
  },
  {
   "cell_type": "code",
   "execution_count": 50,
   "metadata": {},
   "outputs": [
    {
     "data": {
      "text/plain": [
       "['3 Maja']"
      ]
     },
     "execution_count": 50,
     "metadata": {},
     "output_type": "execute_result"
    }
   ],
   "source": [
    "siec.xpath(\"//Wlasciciel[@imie='Matylda' and @nazwisko='Jankowska']/../@adres\")"
   ]
  },
  {
   "cell_type": "markdown",
   "metadata": {},
   "source": [
    "## g) Jakie są dostępne wszystkie książki w księgarni przy ulicy 3 Maja, których autorem jest Jane Austen"
   ]
  },
  {
   "cell_type": "code",
   "execution_count": 51,
   "metadata": {},
   "outputs": [
    {
     "data": {
      "text/plain": [
       "['\\n\\tDuma i uprzedzenie\\n\\t']"
      ]
     },
     "execution_count": 51,
     "metadata": {},
     "output_type": "execute_result"
    }
   ],
   "source": [
    "siec.xpath(\"//Ksiegarnia[@adres='3 Maja']/Ksiazka[@autor='Jane Austen']/text()\")"
   ]
  },
  {
   "cell_type": "markdown",
   "metadata": {},
   "source": [
    "## h) Jakie są książki z atrybutem liczba"
   ]
  },
  {
   "cell_type": "code",
   "execution_count": 52,
   "metadata": {},
   "outputs": [
    {
     "data": {
      "text/plain": [
       "['\\n\\tOkaleczone oko\\n\\t',\n",
       " '\\n\\tOślepiający nóż\\n\\t',\n",
       " '\\n\\tCzarny Pryzmat\\n\\t',\n",
       " '\\n\\tKrwawe Zwierciadło\\n\\t',\n",
       " '\\n\\tCzarny Pryzmat\\n\\t',\n",
       " '\\n\\tKrwawe Zwierciadło\\n\\t',\n",
       " '\\n\\tDuma i uprzedzenie\\n\\t']"
      ]
     },
     "execution_count": 52,
     "metadata": {},
     "output_type": "execute_result"
    }
   ],
   "source": [
    "siec.xpath(\"//Ksiazka[@liczba]/text()\")"
   ]
  },
  {
   "cell_type": "markdown",
   "metadata": {},
   "source": [
    "## i) liczba >= 3"
   ]
  },
  {
   "cell_type": "code",
   "execution_count": 53,
   "metadata": {},
   "outputs": [
    {
     "data": {
      "text/plain": [
       "['\\n\\tOkaleczone oko\\n\\t',\n",
       " '\\n\\tKrwawe Zwierciadło\\n\\t',\n",
       " '\\n\\tDuma i uprzedzenie\\n\\t']"
      ]
     },
     "execution_count": 53,
     "metadata": {},
     "output_type": "execute_result"
    }
   ],
   "source": [
    "siec.xpath(\"//Ksiazka[@liczba>=3]/text()\")"
   ]
  }
 ],
 "metadata": {
  "kernelspec": {
   "display_name": "Python 3",
   "language": "python",
   "name": "python3"
  },
  "language_info": {
   "codemirror_mode": {
    "name": "ipython",
    "version": 3
   },
   "file_extension": ".py",
   "mimetype": "text/x-python",
   "name": "python",
   "nbconvert_exporter": "python",
   "pygments_lexer": "ipython3",
   "version": "3.7.4"
  }
 },
 "nbformat": 4,
 "nbformat_minor": 2
}
